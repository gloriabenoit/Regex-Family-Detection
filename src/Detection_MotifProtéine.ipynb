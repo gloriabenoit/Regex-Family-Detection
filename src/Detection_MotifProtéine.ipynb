{
 "cells": [
  {
   "cell_type": "markdown",
   "metadata": {
    "id": "hbTQlneM31vt"
   },
   "source": [
    "# Détection de motifs de familles protéiques par expressions régulières\n",
    "BENOIT Gloria – DE GOEYSE Côme – MANY Vidhya"
   ]
  },
  {
   "cell_type": "markdown",
   "metadata": {
    "id": "NKIV1eWAEQk7"
   },
   "source": [
    "## 1. Introduction au projet\n",
    "Le but de notre projet est de détecter l'**appartenance** d'une protéine à une famille à partir d'une **signature** retrouvée dans sa séquence. Pour cela nous allons utiliser les expressions régulières, ou regex (*regular expressions*), des outils permettant de filtrer des chaînes de caractères. On les considèrent comme des motifs et ils permettent de déterminer s'il y a une **correspondance** (*match*) pour ce motif à l'intérieur de chaînes de caractères, ligne par ligne dans un fichier. \n",
    "Leur utilisation n'est pas spécifique à Python, de nombreux autres programmes ont des bibliothèques dédiées aux expressions régulières comme Perl, R ou encore Unix. Pour les utiliser dans Python il faut importer le module re, de la même manière que tous les modules :"
   ]
  },
  {
   "cell_type": "code",
   "execution_count": 1,
   "metadata": {
    "id": "0VYmMMF95Mxg"
   },
   "outputs": [],
   "source": [
    "import re"
   ]
  },
  {
   "cell_type": "markdown",
   "metadata": {
    "id": "u2XCZ472BYt5"
   },
   "source": [
    "## 2. Présentation du module *re*\n",
    "Le module *re* contient différentes fonctions et méthodes. Afin d'illustrer les différentes applications de ce module, nous allons utiliser le texte suivant stocké dans l'objet *text* :\n",
    "\n"
   ]
  },
  {
   "cell_type": "code",
   "execution_count": 2,
   "metadata": {
    "id": "HLQHu5IQIqEo"
   },
   "outputs": [],
   "source": [
    "text = \"Certains philosophes de l’Antiquité (Lucrèce, 98-54 avant notre ère, en\\\n",
    "particulier) ont approché le phénomène de l’évolution, mais ce n’est qu’à \\\n",
    "partir du XIXe siècle que des  théories proposent des explications \\\n",
    "scientifiques, c’est-à-dire réfutables ou démontrables. Jean-Baptiste de \\\n",
    "Lamarck a le premier formulé une théorie scientifique transformiste fondée sur \\\n",
    "deux principes complémentaires : complexification de l'organisme et \\\n",
    "diversification adaptative.\""
   ]
  },
  {
   "cell_type": "markdown",
   "metadata": {
    "id": "aAdzNpF3IqlK"
   },
   "source": [
    "### 2.1. La fonction `search()`\n",
    "La principale fonction du module *re* est la fonction `search()` qui analyse la chaîne pour trouver la position où l'expression régulière correspond. \n",
    "Elle a la syntaxe suivante : `search(motif, chaîne)`. \n",
    "\n",
    "Si le motif est trouvé dans la chaîne, elle renvoi un objet de type *SRE_Match*(considéré comme *True*), sinon elle ne renvoie rien (*False*). Cet objet décrit l'**étendue** de la correspondance (*span=*) et la partie **reconnue** (*match=*). \n"
   ]
  },
  {
   "cell_type": "code",
   "execution_count": 3,
   "metadata": {
    "colab": {
     "base_uri": "https://localhost:8080/"
    },
    "id": "pszoW7vwbl8w",
    "outputId": "0aa2e858-c842-4066-bd91-f2121dd5852a"
   },
   "outputs": [
    {
     "data": {
      "text/plain": [
       "<re.Match object; span=(9, 14), match='philo'>"
      ]
     },
     "execution_count": 3,
     "metadata": {},
     "output_type": "execute_result"
    }
   ],
   "source": [
    "re.search(\"philo\", text)"
   ]
  },
  {
   "cell_type": "markdown",
   "metadata": {
    "id": "M5Q7Kb8-bowS"
   },
   "source": [
    "### 2.2 Les fonctions `match()` et `fullmatch()`\n",
    "La fonction `match()` détermine si le motif se situe au début de la chaîne.\n",
    "\n",
    "La fonction `fullmatch()` détermine si le motif correspond exactement à la chaîne de caractères entière.\n",
    "\n",
    "Ces deux fonctions peuvent être remplacées par la fonction `search()` et une combinaison de métacaractères, nous ne nous y intéresserons donc pas."
   ]
  },
  {
   "cell_type": "code",
   "execution_count": 4,
   "metadata": {
    "colab": {
     "base_uri": "https://localhost:8080/"
    },
    "id": "BiGTGDK_Ki82",
    "outputId": "d8b1846f-f15a-4571-e2c1-d215a26e6b6b"
   },
   "outputs": [
    {
     "name": "stdout",
     "output_type": "stream",
     "text": [
      "Résultat de re.match\n",
      "<re.Match object; span=(0, 8), match='Certains'>\n",
      "'Certains' se situe au début de la chaine de caractère.\n",
      "\n",
      "Résultat de re.search\n",
      "<re.Match object; span=(0, 8), match='Certains'>\n",
      "\n",
      "Nous avons codé re.match avec re.search à l'aide du métacaractère ^ indiquant le début d'une chaine de caractère.\n"
     ]
    }
   ],
   "source": [
    "if (re.match(\"Certains\", text)):\n",
    "  print(\"Résultat de re.match\")\n",
    "  print(re.match(\"Certains\", text))\n",
    "  print(\"'Certains' se situe au début de la chaine de caractère.\\n\")\n",
    "if (re.search(\"^Certains\", text)):\n",
    "  print(\"Résultat de re.search\")\n",
    "  print(re.match(\"Certains\", text))\n",
    "print(\"\\nNous avons codé re.match avec re.search à l'aide du métacaractère ^ indiquant le début d'une chaine de caractère.\")"
   ]
  },
  {
   "cell_type": "markdown",
   "metadata": {
    "id": "VqG4rPxAjDcs"
   },
   "source": [
    "### 2.3. La fonction `findall()`\n",
    "La méthode `findall()` renvoie une liste des éléments en correspondance avec le motif recherché."
   ]
  },
  {
   "cell_type": "code",
   "execution_count": 5,
   "metadata": {
    "colab": {
     "base_uri": "https://localhost:8080/"
    },
    "id": "cOl2HwwYmYKf",
    "outputId": "7cfaee25-ce20-4a77-d58b-3b5b22903da9"
   },
   "outputs": [
    {
     "data": {
      "text/plain": [
       "['le', 'le', 'le', 'le', 'le', 'le']"
      ]
     },
     "execution_count": 5,
     "metadata": {},
     "output_type": "execute_result"
    }
   ],
   "source": [
    "re.findall(\"le\", text) # recherche du motif \"le\""
   ]
  },
  {
   "cell_type": "code",
   "execution_count": 6,
   "metadata": {
    "colab": {
     "base_uri": "https://localhost:8080/"
    },
    "id": "6RInYn7BkXz5",
    "outputId": "fdc6c3c2-c98b-4f31-a0a3-384058508df9"
   },
   "outputs": [
    {
     "data": {
      "text/plain": [
       "['98', '54']"
      ]
     },
     "execution_count": 6,
     "metadata": {},
     "output_type": "execute_result"
    }
   ],
   "source": [
    "re.findall(\"[0-9][0-9]\", text) # recherche d'un motif composé de deux chiffre "
   ]
  },
  {
   "cell_type": "markdown",
   "metadata": {
    "id": "U3lBti6MU83G"
   },
   "source": [
    "## 3. Production d'un motif\n",
    "Pour composer notre motif, on utilise des caractères **normaux**, qui sont interprétés en tant que tel, et de **métacaractères**, qui ont une signification spécifique. On peut distinguer trois types de métacaractères :  "
   ]
  },
  {
   "cell_type": "markdown",
   "metadata": {
    "id": "YoEboqxmb4wt"
   },
   "source": [
    "### 3.1. Métacaractères de **position**"
   ]
  },
  {
   "cell_type": "markdown",
   "metadata": {
    "id": "vlYUdlG_R9Sa"
   },
   "source": [
    "  \n",
    "| Métacaractère | Signification  | Motif | Chaîne  | Match |\n",
    "|---------------|----------------|-------|---------|-------|\n",
    "| \\^             | Début de ligne | ^test$ | XtestY   | False     |\n",
    "| \\$             | Fin de ligne   |       | **test** | True    |"
   ]
  },
  {
   "cell_type": "code",
   "execution_count": 7,
   "metadata": {
    "colab": {
     "base_uri": "https://localhost:8080/"
    },
    "id": "nQhUcKvHmpsT",
    "outputId": "531f3442-f6cb-44be-dad2-884a050031c7"
   },
   "outputs": [
    {
     "data": {
      "text/plain": [
       "<re.Match object; span=(0, 8), match='Certains'>"
      ]
     },
     "execution_count": 7,
     "metadata": {},
     "output_type": "execute_result"
    }
   ],
   "source": [
    "re.search(\"^Certains\", text)"
   ]
  },
  {
   "cell_type": "markdown",
   "metadata": {
    "id": "ri5qnjVNVmS8"
   },
   "source": [
    "### 3.2. Métacaractères de **contenu**\n",
    "On a une combinaison de métacaratères et de caractères normaux :"
   ]
  },
  {
   "cell_type": "markdown",
   "metadata": {
    "id": "D-lgY_LKV4kl"
   },
   "source": [
    "| Métacaractère | Signification              | Motif              | Chaîne           | Match |\n",
    "|---------------|----------------------------|--------------------|------------------|-------|\n",
    "| \\.            | N'importe quel caractère   | [ae].\\[A-Z](12\\|13) | Oui aTt 12x      | False |\n",
    "| [abc]         | a, b ou c                  |                    | non EZ1328       | False |\n",
    "| (ab\\|cd\\|ef)  | ab, cd ou ef               |                    | non**e8B12**full | True  |\n",
    "| [A-Z]         | N'importe quelle majuscule |                    | **atX13**        | True  |\n",
    "| [a-z]         | N'importe quelle minuscule | [0-9][a-z][^b]     | 8abc             | False |\n",
    "| [0-9]         | N'importe quel chiffre     |                    | 17 ce            | False |\n",
    "| [^xy]         | Tout sauf x ou y           |                    | xy1**9bc**x      | True  |"
   ]
  },
  {
   "cell_type": "code",
   "execution_count": 8,
   "metadata": {
    "colab": {
     "base_uri": "https://localhost:8080/"
    },
    "id": "ByVnRSmaKdTM",
    "outputId": "ebb76bae-910d-436c-a5e4-d41424463d7f"
   },
   "outputs": [
    {
     "data": {
      "text/plain": [
       "[' porc', ' paon', ' pie,', ' pas ']"
      ]
     },
     "execution_count": 8,
     "metadata": {},
     "output_type": "execute_result"
    }
   ],
   "source": [
    "animaux = \"Les chiens, les chats, les chevaux sont des animaux domestiques mais\\\n",
    " aussi les porcs, les dromadaires, le paon blanc, la carpe Koï, le ver à soie.\\\n",
    " La pie, bien que commune, n'est pas considéré comme un animal domestique.\"\n",
    "re.findall(\" p...\", animaux)  # cherche tous les mots commençants par \"p\"\n",
    "                              # (précédés d'un espace), et les 3 caractères \n",
    "                              # suivants."
   ]
  },
  {
   "cell_type": "code",
   "execution_count": 9,
   "metadata": {
    "colab": {
     "base_uri": "https://localhost:8080/"
    },
    "id": "N7BJv2bDhioq",
    "outputId": "51127e8a-eada-444b-b697-dbf6857fdc19"
   },
   "outputs": [
    {
     "data": {
      "text/plain": [
       "['Koï', 'La ']"
      ]
     },
     "execution_count": 9,
     "metadata": {},
     "output_type": "execute_result"
    }
   ],
   "source": [
    "re.findall(\"[A-Z][a-z][^s]\", animaux) # cherche une expression commençant par un lettre en majuscule\n",
    "                                      # suivi d'une lettre en minuscule\n",
    "                                      # suivi de n'importe quel caracartère (y compris les espaces) sauf le caratère \"s\""
   ]
  },
  {
   "cell_type": "markdown",
   "metadata": {
    "id": "elHbQDa2XfXS"
   },
   "source": [
    "### 3.3. Métacaractères de **quantité**\n",
    "Ces métacaratères s'appliquent au caractère ou expression précédente entre ( ) :"
   ]
  },
  {
   "cell_type": "markdown",
   "metadata": {
    "id": "meArNAVLXkGA"
   },
   "source": [
    "| Métacaractère | Signification               | Motif            | Chaîne              | Match |\n",
    "|---------------|-----------------------------|------------------|---------------------|-------|\n",
    "| *             | Autant de fois que possible | a*bc+d?          | xxaBc               | False |\n",
    "| +             | Au moins une fois           |                  | 1**bccc**1          | True  |\n",
    "| ?             | Une ou aucune fois          |                  | **aaaaaabccd**aaaa  | True  |\n",
    "| {n}           | n fois                      | x{3}y{2,4}zA{5,} | **xxxyyyzAAAAA**    | True  |\n",
    "| {n,m}         | De n à m fois (compris)     |                  | xXxyyzAA            | False |\n",
    "| {n,}          | Au moins n fois             |                  | 1**xxxyyzAAAAAAA**2 | True  |"
   ]
  },
  {
   "cell_type": "code",
   "execution_count": 10,
   "metadata": {
    "colab": {
     "base_uri": "https://localhost:8080/"
    },
    "id": "xNjXR2rLKeC4",
    "outputId": "90bffa67-ffbc-4567-b103-08fb680a6a84"
   },
   "outputs": [
    {
     "data": {
      "text/plain": [
       "[' commune', ' comme']"
      ]
     },
     "execution_count": 10,
     "metadata": {},
     "output_type": "execute_result"
    }
   ],
   "source": [
    "re.findall(\" [a-z]*mm[a-z]*\", animaux)  # cherche tous les mots précédés d'un\n",
    "                                        # espace, composé uniquement de lettre, \n",
    "                                        # et contenant deux \"m\"."
   ]
  },
  {
   "cell_type": "code",
   "execution_count": 11,
   "metadata": {
    "colab": {
     "base_uri": "https://localhost:8080/"
    },
    "id": "yHGRLghgnT9b",
    "outputId": "85e1137f-0446-459c-9b3f-a5bc7f6a76d5"
   },
   "outputs": [
    {
     "data": {
      "text/plain": [
       "['commu', 'comme']"
      ]
     },
     "execution_count": 11,
     "metadata": {},
     "output_type": "execute_result"
    }
   ],
   "source": [
    "re.findall(\"[a-z]*m{2,}.\", animaux) # cherche une suite de lettre minuscule \n",
    "                                    # suivi du caractère \"m\" répété au moins deux fois\n",
    "                                    # suivi de n'importe quel caratère."
   ]
  },
  {
   "cell_type": "markdown",
   "metadata": {
    "id": "jLexkjyrZNhZ"
   },
   "source": [
    "### 3.4. D'autres métacaractères\n",
    "Il est important de souligner quelques métacaractères spéciaux :  \n",
    "&emsp; -\\ : Échappement du métacaractère suivant  \n",
    "&emsp; -\\d : Remplace [0-9] (tous les chiffres)  \n",
    "&emsp; -\\w : Remplace [-09A-Za-z_] (tous les caractères alphanumériques)  \n",
    "&emsp; -\\s : Remplace [ \\t\\n\\r\\f] (tous les espaces blancs)"
   ]
  },
  {
   "cell_type": "code",
   "execution_count": 12,
   "metadata": {
    "colab": {
     "base_uri": "https://localhost:8080/"
    },
    "id": "tCBXQvkOKfCh",
    "outputId": "241e1004-9b8c-4d54-dc56-f2e166f7a2a4"
   },
   "outputs": [
    {
     "data": {
      "text/plain": [
       "['soie.', 'domestique.']"
      ]
     },
     "execution_count": 12,
     "metadata": {},
     "output_type": "execute_result"
    }
   ],
   "source": [
    "re.findall(\"\\w*\\.\", animaux)  # On cherche ici tous les mots composés de lettres\n",
    "                              # ou chiffres(\\w), autant de fois que possible (*)\n",
    "                              # suivi par un point (\\.). Comme on veut ici le\n",
    "                              # caractère '.', et pas le métacaratère, on\n",
    "                              # utilise le '\\' pour l'escape."
   ]
  },
  {
   "cell_type": "markdown",
   "metadata": {
    "id": "5VgV5kSMZqxg"
   },
   "source": [
    "Plus une expression régulière est **précise**, mieux elle marchera. En effet, les expressions régulières sont **avides** c’est-à-dire qu'elles cherchent à s'étendre le plus possible à gauche et à droite. Pour pallier cela il faut être précis et éviter d'utiliser des combinaisons de '*' et '.'. "
   ]
  },
  {
   "cell_type": "markdown",
   "metadata": {
    "id": "iG2bm80HK-LU"
   },
   "source": [
    "## 4. Base de données *PROSITE*\n",
    "\n",
    "*PROSITE* est une base de données fournissant des informations sur les familles protéiques et les domaines protéiques. Les protéines ou domaines protéiques appartenant à une famille particulière partagent généralement des attributs fonctionnels et sont dérivés d'un ancêtre commun. L’étude des familles de séquences protéiques montre que certaines régions ont été mieux conservées que d'autres au cours de l'évolution. Ces régions sont généralement importantes pour la fonction d'une protéine et/ou pour le maintien de sa structure tridimensionnelle. Il est donc possible de dériver une **signature** ou un motif pour une famille ou un domaine de protéines, qui distingue ses membres de toutes les autres protéines non apparentées. Une signature protéique peut être utilisée pour attribuer une protéine nouvellement séquencée à une famille **spécifique** de protéines et ainsi formuler des hypothèses sur sa fonction. \n",
    "\n",
    "*PROSITE* contient actuellement des modèles et des profils spécifiques pour plus d'un millier de familles ou de domaines de protéines. Chacune de ces signatures est accompagnée d'une documentation fournissant des informations générales sur la structure et la fonction de ces protéines.\n",
    "\n",
    "Les motifs des familles ou des domaines protéiques sont défini par une syntaxe **propre** à *PROSITE* : \n",
    "- Tous les résidus d’un motif sont séparé d’un tiret : ‘-’\n",
    "- x :  représente n’importe quel résidus pour une position donné\n",
    "- [  ] : une liste de résidus entre crochet représente les résidus accepté pour une position donné \n",
    "- { } : une liste de résidus entre crochet représente les résidus non acceptés pour une position donné \n",
    "- La répétition d’un résidus d’un motif peut être déterminée par une valeur numérique entre parenthèses. \n",
    "\n",
    "    Exemple : x(2) = x-x   &  x(2,4) = x,x ou x,x,x ou x,x,x,x\n",
    "- < : le motif commence par N-terminal \n",
    "- \\> : le motif fini par C-terminal \n",
    "- **.** : fin du motif \n"
   ]
  },
  {
   "cell_type": "markdown",
   "metadata": {
    "id": "N3d-r6lY9bvy"
   },
   "source": [
    "## 5. Détection de motifs de familles protéiques\n",
    "\n",
    "Les Regex sont des outils très intéressants en bio-informatique. En effet les protéines d'une même famille partagent des séquences similaires, conservées au cours de l'évolution, qui forment la signature d'une famille. Il est donc possible de déterminer l'**appartenance** d'une protéine à une **famille** à partir d'un **motif** retrouvée dans sa séquence.\n"
   ]
  },
  {
   "cell_type": "markdown",
   "metadata": {
    "id": "euxYFSBU0OYA"
   },
   "source": [
    "Nous allons nous intéresser à la famille des **opsines**. Les opsines sont des RCPG (récepteurs couplés aux protéines G) se liant au rétinal. Elles sont impliquées dans la perception de la lumière au niveau de la rétine. La famille des opsines possède un motif spécifique correspondant au site de liaison au rétinal. La signature de la famille des opsines répertoriées sur *PROSITE* est la suivante :  \n",
    "**[LIVMFWAC]-[PSGAC]-x-{G}-x-[SAC]-K-[STALIMR]-[GSACPNV]-[STACP]-x(2)-\n",
    "[DENF]-[AP]-x(2)-[IY].**  \n",
    "Nous allons partir de ce motif, le traduire en expression régulière pour utiliser *re* et rechercher notre motif dans différentes séquences afin de conclure sur leur appartenance à la famille des opsines."
   ]
  },
  {
   "cell_type": "code",
   "execution_count": 13,
   "metadata": {
    "colab": {
     "base_uri": "https://localhost:8080/"
    },
    "id": "sz8CHRTn6BAA",
    "outputId": "67117f70-6f2e-438e-bab1-c305bf7a9928"
   },
   "outputs": [
    {
     "name": "stdout",
     "output_type": "stream",
     "text": [
      "L'expression régulière correspondant au domaine spécifique de l'opsine, obtenue avec la fonction traduit_pro_re est la suivante :\n",
      "\"[LIVMFWAC][PSGAC]\\w[^G]\\w[SAC]K[STALIMR][GSACPNV][STACP]\\w{2}[DENF][AP]\\w{2}[IY]\"\n",
      "C'est une protéine de la famille des opsine.\n",
      "Ce n'est pas une protéine de la famille des Aldo/keto reductase family signature 2.\n",
      "Ce n'est pas une protéine de la famille des Aldo/keto reductase family signature 2.\n",
      "Ce n'est pas une protéine de la famille des Aldo/keto reductase family signature 2.\n",
      "Ce n'est pas une protéine de la famille des Aldo/keto reductase family signature 2.\n",
      "Ce n'est pas une protéine de la famille des Aldo/keto reductase family signature 2.\n",
      "Ce n'est pas une protéine de la famille des Aldo/keto reductase family signature 2.\n",
      "Ce n'est pas une protéine de la famille des Aldo/keto reductase family signature 2.\n"
     ]
    }
   ],
   "source": [
    "%run demo.py"
   ]
  },
  {
   "cell_type": "markdown",
   "metadata": {
    "id": "pd9mhveWNb_p"
   },
   "source": [
    "La fonction **principale** du module est la fonction <code>traduit__pro_re</code>, qui traduit un motif *pro* (prosite) en *re* (regex).\n",
    "\n",
    "La fonction utilise un **dictionnaire**, qui associe à un métacaractère *pro* son équivalent *re*. Par exemple, la clé <code>\"x\"</code> contient <code>r\"\\\\\\\\w\"</code>. En effet, il est nécéssaire d'échapper le slash pour obtenir \"\\w\", d'où l'utilisation du format <code>r</code> et du double slash.\n",
    "\n",
    "Ensuite, on parcourt le dictionnaire et on remplace au fur et à mesure les métacaratères. L'**ordre** de parcours du dictionnaire est important, puisque certains métacaractères sont à la fois présents en *re* et en *pro*, par exemple <code>{}</code>, qui correspond à l'exclusion de caractères en *pro*, et à une quantité de caractères en *re*.\n",
    "\n"
   ]
  },
  {
   "cell_type": "markdown",
   "metadata": {
    "id": "OEpmUiygy62k"
   },
   "source": [
    "## 6. Exploration"
   ]
  },
  {
   "cell_type": "markdown",
   "metadata": {
    "id": "KRB4hF1EuM1f"
   },
   "source": [
    "### 6.1. Correspondance à une famille aléatoire\n",
    "Le module *Biopython* réalise des opérations similaires au module présent :\n",
    "Nous avons écrit le code pour déterminer si une protéine fait partie de la famille des opsines selon le motif *PROSITE* de cette famille. Néanmoins les fonctions peuvent être utilisées pour **n'importe quelle** famille possédant un motif *PROSITE* spécifique. Ainsi nous avons crée la fonction `cherche_prosite(id_prot)` qui permet de récupérer le motif et le nom d'une famille à partir de son **numéro** *PROSITE*.  \n",
    "Cette fonction, combinée avec le module *random*, nous permet de récupérer un motif au hasard. Cela peut être utile (bien que chronophage) si on possède une séquence inconnue et qu'on cherche à lui attribuer une famille.  \n",
    "Nous avons aussi écrit le script de manière à ce qu'il fonctionne comme module dans le but d'optimiser la recherche d'un motif dans une séquence.  "
   ]
  },
  {
   "cell_type": "code",
   "execution_count": 14,
   "metadata": {
    "colab": {
     "base_uri": "https://localhost:8080/",
     "height": 324
    },
    "id": "82lerFPTLy8f",
    "outputId": "2db11dbc-7e5e-4098-da2e-2624daddb5e8"
   },
   "outputs": [],
   "source": [
    "import demo as REPRO\n",
    "from random import randint"
   ]
  },
  {
   "cell_type": "code",
   "execution_count": 15,
   "metadata": {
    "colab": {
     "base_uri": "https://localhost:8080/",
     "height": 237
    },
    "id": "gAizMDEczqYQ",
    "outputId": "db157340-a1da-41fd-abf3-a00809ba7f23"
   },
   "outputs": [
    {
     "name": "stdout",
     "output_type": "stream",
     "text": [
      "L'URL https://prosite.expasy.org/PS04717.txt ne semble pas exister. Au moment de l'écriture, les ID existants étaient entre 1 et 60032 inclus,  sans être forcément consécutifs.\n",
      "L'URL https://prosite.expasy.org/PS11276.txt ne semble pas exister. Au moment de l'écriture, les ID existants étaient entre 1 et 60032 inclus,  sans être forcément consécutifs.\n",
      "Ce n'est pas une protéine de la famille des Zinc finger PHD-type signature.\n"
     ]
    }
   ],
   "source": [
    "motif_pro = None\n",
    "while motif_pro is None: # tant qu'on a pas trouvé un pattern\n",
    "   motif_pro = REPRO.cherche_prosite(randint(1, 15000))\n",
    "   # on cherche au hasard un pattern PROSITE\n",
    "\n",
    "motif_re = REPRO.traduit__pro_re(motif_pro[0])\n",
    "# on traduit le motif \n",
    "\n",
    "REPRO.dans_famille(REPRO.SEQ_OPSD_BOV, motif_re, motif_pro[1])\n",
    "# on regarde si la séquence de la rhodopsine bovine est conforme à ce motif\n"
   ]
  },
  {
   "cell_type": "markdown",
   "metadata": {
    "id": "zafCdrSyH4qW"
   },
   "source": [
    "### 6.2. Recherche dans *PROSITE* avec le module *Biopython*\n",
    "Le module *Biopython* réalise des opérations similaires au module présent :\n",
    "\n",
    "il utilise les regex pour extraire les informations utiles de la page *PROSITE*, et les stocke ensuite dans un objet de classe Bio.ExPASy.Prosite.Record.\n",
    "Il est ainsi possible d'accéder aux différentes informations avec des méthodes et attributs associés."
   ]
  },
  {
   "cell_type": "code",
   "execution_count": 16,
   "metadata": {
    "colab": {
     "base_uri": "https://localhost:8080/",
     "height": 324
    },
    "id": "8z4U0E62kChr",
    "outputId": "56ac600a-0312-48fc-db99-4d6f369f6c61"
   },
   "outputs": [],
   "source": [
    "from Bio import ExPASy\n",
    "from Bio.ExPASy import Prosite"
   ]
  },
  {
   "cell_type": "code",
   "execution_count": 17,
   "metadata": {
    "colab": {
     "base_uri": "https://localhost:8080/",
     "height": 237
    },
    "id": "0D7yWoPbtsG8",
    "outputId": "6f76be70-d804-42c6-c2f7-d88871bda853"
   },
   "outputs": [
    {
     "name": "stdout",
     "output_type": "stream",
     "text": [
      "(4151, 3802)\n",
      "Numéro d'accession : PS00211\n",
      "Nom de la protéine : ABC_TRANSPORTER_1\n",
      "Motif : [LIVMFYC]-[SA]-[SAPGLVFYKQH]-G-[DENQMW]-[KRQASPCLIMFW]-[KRNQSTAVM]-[KRACLVM]-[LIVMFYPAN]-{PHY}-[LIVMFW]-[SAGCLIVP]-{FYWHP}-{KRHP}-[LIVMFYWSTA].\n"
     ]
    }
   ],
   "source": [
    "with ExPASy.get_prosite_raw(\"PS00211\") as handle:\n",
    "  # on ouvre l'entrée correspondant à PS00005\n",
    "  record = Prosite.read(handle)\n",
    "  # on stocke les données dans l'objet record\n",
    "\n",
    "#on sort du bloc, handle est fermé\n",
    "\n",
    "print(record.nr_positive)\n",
    "# on peut maintenant réaliser des opérations sur handle\n",
    "# ici, on affiche le nombre de bouts de séquence correspondant au pattern (4151)\n",
    "# puis le nombre de protéines dont sont issues les séquences (3802)\n",
    "# Si on voulait afficher les protéines absent de la base de donnée, appartenant \n",
    "# potentiellement à la famille, on ferait :\n",
    "# record.dr_potential\n",
    "print(f\"Numéro d'accession : {record.accession}\")\n",
    "print(f\"Nom de la protéine : {record.name}\")\n",
    "print(f\"Motif : {record.pattern}\")"
   ]
  },
  {
   "cell_type": "markdown",
   "metadata": {
    "id": "7vBCwk5DkINU"
   },
   "source": [
    "Ci-suit différents attributs associés au record *PROSITE* :\n",
    "\n",
    "|Clé |valeur|\n",
    "|----|------|\n",
    "|dr_positive |(AC_NB, ENTRY_NAME) des membres de la famille vrais positifs|\n",
    "|dr_false_neg| (AC_NB, ENTRY_NAME) des membres de la famille faux négatifs|\n",
    "|dr_false_pos| (AC_NB, ENTRY_NAME) des membres de la famille faux positifs|\n",
    "|dr_potential |séquence qui devrait faire partie de la famille, mais qui n'existe pas encore sur la base de données PROSITE|\n",
    "|dr_unknown | Séquence qui pourrait potentiellement appartenir à la famille (manuellement identifiées) |\n",
    "|pdb_structs | Liste des entrées PDB|\n",
    "|name | ID e.g. ADH_ZINC|\n",
    "|type | Type d'entrée, e.g. PATTERN, MATRIX, or RULE|\n",
    "|accession | e.g. PS00387|\n",
    "|created | Date de création de l'entrée PROSITE (MMM-AAAA avant janvier 2017, JJ-MMM-AAA depuis janvier 2017)|\n",
    "|data_update | Date de dernière mise à jour des données primaires (liées au pattern/matrix)|\n",
    "|info_update | Date de dernière mise à jour du reste des données.|\n",
    "|pdoc | ID du PDOC associé.|\n",
    "|description| Description rapide.|\n",
    "|pattern | Motif PROSITE|\n",
    "\n",
    "AC_NB :  identifiant UniProtKB/Swiss-Prot (e.g. https://www.uniprot.org/uniprotkb/Q96DN2/entry, ici Q96DN2)\n",
    "\n",
    "ENTRY_NAME : ID global de la protéine"
   ]
  },
  {
   "cell_type": "markdown",
   "metadata": {
    "id": "c5JN5TCfs-SX"
   },
   "source": [
    "## 7. Ressources\n",
    "https://python.sdv.univ-paris-diderot.fr/16_expressions_regulieres/, chapitre du cours regroupant les regex et le module *re*, écrit par Patrick Fuchs et Pierre Poulain, version du 29 août 2022.  \n",
    "Il a permis la découverte du module *re*.\n",
    "\n",
    "https://docs.python.org/fr/3/howto/regex.html, guide officiel des expressions régulières en Python, écrit par A.M. Kuchling, mis à jour le 6 novembre 2022.  \n",
    " Il a permis de comprendre comment fonctionne une expression régulière et comment en écrire une. \n",
    "\n",
    "https://regexr.com/, site internet, écrit Grant Skinner et la *gskinner team*, version du 1er juin 2020.  \n",
    "Il a permis de vérifier l'étendue de nos expressions régulières.\n",
    "\n",
    "https://prosite.expasy.org/prosite_details.html, informations sur la base de données PROSITE, crée par le *SIB Swiss Institute of Bioinformatics*.  \n",
    "Il a permis de savoir comment fonctionne la base de donnée PROSITE.\n",
    "\n",
    "https://prosite.expasy.org/PS00238, fiche du domaine des Opsines sur PROSITE.  \n",
    "Il a permis d'obtenir le motif PROSITE spécifique des opsines.\n",
    "\n",
    "https://biopython.org/docs/1.74/api/Bio.ExPASy.Prosite.html#Bio.ExPASy.Prosite.Record,  \n",
    "Il a permis de récupérer des informations sur PROSITE avec BioPython.\n",
    "\n",
    "https://biopython.org/docs/1.75/api/Bio.ExPASy.html \n",
    "Il a également permis de récupérer des informations sur PROSITE avec BioPython.\n"
   ]
  }
 ],
 "metadata": {
  "colab": {
   "provenance": []
  },
  "kernelspec": {
   "display_name": "Python 3 (ipykernel)",
   "language": "python",
   "name": "python3"
  },
  "language_info": {
   "codemirror_mode": {
    "name": "ipython",
    "version": 3
   },
   "file_extension": ".py",
   "mimetype": "text/x-python",
   "name": "python",
   "nbconvert_exporter": "python",
   "pygments_lexer": "ipython3",
   "version": "3.12.6"
  }
 },
 "nbformat": 4,
 "nbformat_minor": 4
}
